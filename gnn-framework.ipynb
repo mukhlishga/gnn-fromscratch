{
 "cells": [
  {
   "cell_type": "markdown",
   "metadata": {
    "id": "WWJy9u9UnPZl"
   },
   "source": [
    "# Library"
   ]
  },
  {
   "cell_type": "code",
   "execution_count": 1,
   "metadata": {
    "executionInfo": {
     "elapsed": 8219,
     "status": "ok",
     "timestamp": 1611511050036,
     "user": {
      "displayName": "Mukhlish Ghany",
      "photoUrl": "https://lh3.googleusercontent.com/a-/AOh14GgcCiC5ZrEN8nVzzekSp93Y6Xy8jjuotS-NQMVfBA=s64",
      "userId": "13681952602611334172"
     },
     "user_tz": -60
    },
    "id": "6hgbC1e6FgUD"
   },
   "outputs": [],
   "source": [
    "# !pip install -q torch-scatter -f https://pytorch-geometric.com/whl/torch-1.7.0+cu101.html\n",
    "# !pip install -q torch-sparse -f https://pytorch-geometric.com/whl/torch-1.7.0+cu101.html\n",
    "# !pip install -q torch-geometric"
   ]
  },
  {
   "cell_type": "code",
   "execution_count": 2,
   "metadata": {
    "executionInfo": {
     "elapsed": 8192,
     "status": "ok",
     "timestamp": 1611511050037,
     "user": {
      "displayName": "Mukhlish Ghany",
      "photoUrl": "https://lh3.googleusercontent.com/a-/AOh14GgcCiC5ZrEN8nVzzekSp93Y6Xy8jjuotS-NQMVfBA=s64",
      "userId": "13681952602611334172"
     },
     "user_tz": -60
    },
    "id": "gcNclnyORGQR"
   },
   "outputs": [],
   "source": [
    "#Pytorch library\n",
    "import torch\n",
    "import torch.nn as nn\n",
    "import torch.nn.functional as F\n",
    "\n",
    "import torch_geometric.nn as pyg_nn\n",
    "from torch_geometric.nn import GCNConv, GATConv\n",
    "from torch_geometric.nn import MessagePassing\n",
    "from torch_geometric.utils import add_self_loops, degree\n",
    "import torch_geometric.utils as pyg_utils\n",
    "import torch_geometric.transforms as T\n",
    "from torch_geometric.data import Data, DataLoader\n",
    "\n",
    "import networkx as nx\n",
    "import numpy as np\n",
    "import pandas as pd\n",
    "import matplotlib.pyplot as plt\n",
    "\n",
    "#np.set_printoptions(precision=3, threshold=9, edgeitems=4, suppress=True)\n",
    "#torch.set_printoptions(precision=3, threshold=9, edgeitems=4, sci_mode=False)\n",
    "np.set_printoptions(precision=3, suppress=True)\n",
    "torch.set_printoptions(precision=3, sci_mode=False)"
   ]
  },
  {
   "cell_type": "markdown",
   "metadata": {
    "id": "lDULOru2nS_n"
   },
   "source": [
    "# Data preprocessing library"
   ]
  },
  {
   "cell_type": "code",
   "execution_count": 3,
   "metadata": {
    "executionInfo": {
     "elapsed": 8173,
     "status": "ok",
     "timestamp": 1611511050039,
     "user": {
      "displayName": "Mukhlish Ghany",
      "photoUrl": "https://lh3.googleusercontent.com/a-/AOh14GgcCiC5ZrEN8nVzzekSp93Y6Xy8jjuotS-NQMVfBA=s64",
      "userId": "13681952602611334172"
     },
     "user_tz": -60
    },
    "id": "5lxco29RD42y"
   },
   "outputs": [],
   "source": [
    "def normalize_dataset(x, y):\n",
    "  x_mean = torch.mean(x)\n",
    "  y_mean = torch.mean(y)\n",
    "  x_std = torch.std(x)\n",
    "  y_std = torch.std(y)\n",
    "  x = (x-torch.mean(x))/torch.std(x)\n",
    "  y = (y-torch.mean(y))/torch.std(y)\n",
    "  x = torch.where(torch.isnan(x), torch.zeros_like(x), x)\n",
    "  y = torch.where(torch.isnan(y), torch.zeros_like(y), y)\n",
    "  return x, y, x_mean, y_mean, x_std, y_std\n",
    "\n",
    "def normalize_input(x, x_mean, x_std):\n",
    "  return (x-x_mean)/x_std\n",
    "\n",
    "def denormalize_output(y, y_mean, y_std):\n",
    "  return y*y_std+y_mean\n",
    "\n",
    "def slice_dataset(x_dataset, y_dataset, n_train_percent):\n",
    "  data_size = len(x_dataset)\n",
    "  x_train = x_dataset[:int(data_size*n_train_percent)]\n",
    "  x_test = x_dataset[int(data_size*n_train_percent):]\n",
    "  y_train = y_dataset[:int(data_size*n_train_percent)]\n",
    "  y_test = y_dataset[int(data_size*n_train_percent):]\n",
    "  return x_train, y_train, x_test, y_test"
   ]
  },
  {
   "cell_type": "markdown",
   "metadata": {
    "id": "SObb8gH1KPqW"
   },
   "source": [
    "# power flow dataset"
   ]
  },
  {
   "cell_type": "code",
   "execution_count": 4,
   "metadata": {
    "colab": {
     "base_uri": "https://localhost:8080/"
    },
    "executionInfo": {
     "elapsed": 15193,
     "status": "ok",
     "timestamp": 1611511057094,
     "user": {
      "displayName": "Mukhlish Ghany",
      "photoUrl": "https://lh3.googleusercontent.com/a-/AOh14GgcCiC5ZrEN8nVzzekSp93Y6Xy8jjuotS-NQMVfBA=s64",
      "userId": "13681952602611334172"
     },
     "user_tz": -60
    },
    "id": "57_-n06EqZ6h",
    "outputId": "8056ab58-36e1-4ea0-ed01-65654c642b4d"
   },
   "outputs": [
    {
     "data": {
      "text/plain": [
       "<bound method NDFrame.head of    PF Dataset  Bus1_Pgen  Bus1_Qgen  Bus1_Vgen  Bus1_dgen  Bus2_Pgen  \\\n",
       "0      Data 1    252.130     57.136      9.907          0      163.0   \n",
       "1      Data 2    265.068     50.663      9.907          0      163.0   \n",
       "2      Data 3    127.246     15.918      9.907          0      163.0   \n",
       "3      Data 4    384.471    110.843      9.907          0      163.0   \n",
       "4      Data 5    283.846     70.385      9.907          0      163.0   \n",
       "..        ...        ...        ...        ...        ...        ...   \n",
       "95    Data 96    260.495     69.772      9.907          0      163.0   \n",
       "96    Data 97    154.545     26.128      9.907          0      163.0   \n",
       "97    Data 98    238.472     60.046      9.907          0      163.0   \n",
       "98    Data 99    288.899     71.200      9.907          0      163.0   \n",
       "99   Data 100    226.043     55.963      9.907          0      163.0   \n",
       "\n",
       "    Bus2_Qgen  Bus2_Vgen  Bus2_dgen  Bus3_Pgen  ...  Bus7_Vload  Bus7_dload  \\\n",
       "0      29.579     10.652     -4.824         85  ...     134.365     139.539   \n",
       "1      46.528     10.652     -3.742         85  ...     132.999     140.563   \n",
       "2      29.225     10.652      2.110         85  ...     134.394     146.474   \n",
       "3      84.241     10.652    -21.031         85  ...     129.961     123.140   \n",
       "4      49.770     10.652     -8.800         85  ...     132.738     135.493   \n",
       "..        ...        ...        ...        ...  ...         ...         ...   \n",
       "95     54.701     10.652     -7.247         85  ...     132.341     137.030   \n",
       "96     46.051     10.652      1.004         85  ...     133.038     145.310   \n",
       "97     65.685     10.652     -6.898         85  ...     131.456     137.339   \n",
       "98     47.535     10.652     -9.659         85  ...     132.918     134.643   \n",
       "99     61.890     10.652     -4.060         85  ...     131.762     140.192   \n",
       "\n",
       "    Bus8_Pload  Bus8_Qload  Bus8_Vload  Bus8_dload  Bus9_Pload  Bus9_Qload  \\\n",
       "0       94.566      33.232     132.437     135.263     106.861      37.311   \n",
       "1       69.232      50.584     130.585     136.953     115.132      35.248   \n",
       "2       89.099      34.853     133.314     143.586      63.183      20.860   \n",
       "3      141.792      47.598     127.444     118.658     114.915      36.884   \n",
       "4      131.336      47.117     129.879     130.743     103.792      36.573   \n",
       "..         ...         ...         ...         ...         ...         ...   \n",
       "95     121.526      38.450     130.533     133.560      44.262      38.831   \n",
       "96      58.057      22.385     132.720     142.262     112.720      46.194   \n",
       "97      70.282      37.182     130.177     135.712      65.096      55.191   \n",
       "98      52.788      32.721     131.627     132.436      95.939      45.397   \n",
       "99      63.859      39.996     130.299     138.681      41.733      55.892   \n",
       "\n",
       "    Bus9_Vload  Bus9_dload  \n",
       "0      133.839     134.587  \n",
       "1      133.246     135.733  \n",
       "2      135.701     144.487  \n",
       "3      131.248     120.861  \n",
       "4      132.759     131.648  \n",
       "..         ...         ...  \n",
       "95     133.270     135.707  \n",
       "96     134.079     141.321  \n",
       "97     132.384     137.464  \n",
       "98     132.842     132.317  \n",
       "99     132.494     140.188  \n",
       "\n",
       "[100 rows x 37 columns]>"
      ]
     },
     "execution_count": 4,
     "metadata": {},
     "output_type": "execute_result"
    }
   ],
   "source": [
    "df = pd.read_excel('gnn_dataset.xlsx')\n",
    "df.head"
   ]
  },
  {
   "cell_type": "code",
   "execution_count": 5,
   "metadata": {
    "executionInfo": {
     "elapsed": 15179,
     "status": "ok",
     "timestamp": 1611511057095,
     "user": {
      "displayName": "Mukhlish Ghany",
      "photoUrl": "https://lh3.googleusercontent.com/a-/AOh14GgcCiC5ZrEN8nVzzekSp93Y6Xy8jjuotS-NQMVfBA=s64",
      "userId": "13681952602611334172"
     },
     "user_tz": -60
    },
    "id": "VZcIUnVhOXTL"
   },
   "outputs": [],
   "source": [
    "n_node = 9\n",
    "dataset_length = len(df.index)\n",
    "\n",
    "data_x, data_y = [], []\n",
    "x_raw, y_raw = [], []\n",
    "for row in range(dataset_length):\n",
    "  for col in range(n_node):\n",
    "    if col == 0:\n",
    "      data_x.append(list([df.iloc[row, 3], df.iloc[row, 4]]))\n",
    "      data_y.append(list([df.iloc[row, 1], df.iloc[row, 2]]))\n",
    "    elif col == 1 or col == 2:\n",
    "      data_x.append(list([df.iloc[row, col*4+1], df.iloc[row, col*4+3]]))\n",
    "      data_y.append(list([df.iloc[row, col*4+2], df.iloc[row, col*4+4]]))\n",
    "    else:\n",
    "      data_x.append(list([df.iloc[row, col*4+1], df.iloc[row, col*4+2]]))\n",
    "      data_y.append(list([df.iloc[row, col*4+3], df.iloc[row, col*4+4]]))\n",
    "  x_raw.append(list(data_x))\n",
    "  y_raw.append(list(data_y))\n",
    "  data_x, data_y = [], []\n",
    "\n",
    "x_raw = torch.tensor(x_raw, dtype=torch.float)\n",
    "y_raw = torch.tensor(y_raw, dtype=torch.float)"
   ]
  },
  {
   "cell_type": "code",
   "execution_count": 6,
   "metadata": {
    "executionInfo": {
     "elapsed": 15170,
     "status": "ok",
     "timestamp": 1611511057095,
     "user": {
      "displayName": "Mukhlish Ghany",
      "photoUrl": "https://lh3.googleusercontent.com/a-/AOh14GgcCiC5ZrEN8nVzzekSp93Y6Xy8jjuotS-NQMVfBA=s64",
      "userId": "13681952602611334172"
     },
     "user_tz": -60
    },
    "id": "9Ct7kFnZYgoy"
   },
   "outputs": [],
   "source": [
    "n_train_percent = 0.5\n",
    "\n",
    "x_raw_train, y_raw_train, x_raw_test, y_raw_test = slice_dataset(x_raw, y_raw, n_train_percent)\n",
    "x, y, x_mean, y_mean, x_std, y_std = normalize_dataset(x_raw, y_raw)\n",
    "x_train, y_train, x_test, y_test = slice_dataset(x, y, n_train_percent)"
   ]
  },
  {
   "cell_type": "code",
   "execution_count": 7,
   "metadata": {
    "executionInfo": {
     "elapsed": 15158,
     "status": "ok",
     "timestamp": 1611511057096,
     "user": {
      "displayName": "Mukhlish Ghany",
      "photoUrl": "https://lh3.googleusercontent.com/a-/AOh14GgcCiC5ZrEN8nVzzekSp93Y6Xy8jjuotS-NQMVfBA=s64",
      "userId": "13681952602611334172"
     },
     "user_tz": -60
    },
    "id": "I06E1H9XG35y"
   },
   "outputs": [],
   "source": [
    "x_train, y_train = x_train, y_train #x_raw_train, y_raw_train\n",
    "x_test, y_test = x_test, y_test #x_raw_test, y_raw_test\n",
    "edge_index = torch.tensor([[0, 3, 3, 4, 3, 5, 4, 6, 5, 8, 1, 6, 6, 7, 7, 8, 2, 8], [3, 0, 4, 3, 5, 3, 6, 4, 8, 5, 6, 1, 7, 6, 8, 7, 8, 2]], dtype=torch.long) #to form adjacency matrix\n",
    "\n",
    "data_train_list, data_test_list = [], []\n",
    "for i,_ in enumerate(x_train):\n",
    "  data_train_list.append(Data(x=x_train[i], y=y_train[i], edge_index=edge_index))\n",
    "for i,_ in enumerate(x_raw_test):\n",
    "  data_test_list.append(Data(x=x_test[i], y=y_test[i], edge_index=edge_index))\n",
    "\n",
    "train_loader = DataLoader(data_train_list, batch_size=100)\n",
    "test_loader = DataLoader(data_test_list, batch_size=100)"
   ]
  },
  {
   "cell_type": "markdown",
   "metadata": {
    "id": "Y3kB-mYEJ-Q0"
   },
   "source": [
    "# GCN"
   ]
  },
  {
   "cell_type": "code",
   "execution_count": 8,
   "metadata": {
    "executionInfo": {
     "elapsed": 15148,
     "status": "ok",
     "timestamp": 1611511057097,
     "user": {
      "displayName": "Mukhlish Ghany",
      "photoUrl": "https://lh3.googleusercontent.com/a-/AOh14GgcCiC5ZrEN8nVzzekSp93Y6Xy8jjuotS-NQMVfBA=s64",
      "userId": "13681952602611334172"
     },
     "user_tz": -60
    },
    "id": "zrP71za8QXAs"
   },
   "outputs": [],
   "source": [
    "class Net(torch.nn.Module):\n",
    "  def __init__(self):\n",
    "    super(Net, self).__init__()\n",
    "    self.conv1 = GCNConv(2, 32)\n",
    "    self.conv2 = GCNConv(32, 16)\n",
    "    self.conv3 = GCNConv(16, 2)\n",
    "\n",
    "  def forward(self, data):\n",
    "    x, edge_index = data.x, data.edge_index\n",
    "\n",
    "    x = self.conv1(x, edge_index)\n",
    "    x = torch.tanh(x)\n",
    "\n",
    "    x = self.conv2(x, edge_index)\n",
    "    x = torch.tanh(x)\n",
    "\n",
    "    x = self.conv3(x, edge_index)\n",
    "\n",
    "    return x"
   ]
  },
  {
   "cell_type": "code",
   "execution_count": 9,
   "metadata": {
    "colab": {
     "base_uri": "https://localhost:8080/"
    },
    "executionInfo": {
     "elapsed": 139284,
     "status": "ok",
     "timestamp": 1611511181248,
     "user": {
      "displayName": "Mukhlish Ghany",
      "photoUrl": "https://lh3.googleusercontent.com/a-/AOh14GgcCiC5ZrEN8nVzzekSp93Y6Xy8jjuotS-NQMVfBA=s64",
      "userId": "13681952602611334172"
     },
     "user_tz": -60
    },
    "id": "5g5aF5H68f7b",
    "outputId": "f8cd97c2-3c1c-478c-8460-a9ca7a7dc97d"
   },
   "outputs": [
    {
     "name": "stdout",
     "output_type": "stream",
     "text": [
      "Epoch: 0000, train loss: 4267.658, test loss: 3741.873\n",
      "Epoch: 0300, train loss: 1890.071, test loss: 1890.385\n",
      "Epoch: 0600, train loss: 1270.097, test loss: 1270.496\n",
      "Epoch: 0900, train loss: 968.821, test loss: 984.469\n",
      "Epoch: 1200, train loss: 814.750, test loss: 849.691\n",
      "Epoch: 1500, train loss: 761.363, test loss: 826.864\n",
      "Epoch: 1800, train loss: 652.554, test loss: 724.843\n",
      "Epoch: 2100, train loss: 687.222, test loss: 725.575\n",
      "Epoch: 2400, train loss: 614.714, test loss: 685.915\n",
      "Epoch: 2700, train loss: 524.441, test loss: 644.569\n",
      "Epoch: 3000, train loss: 486.259, test loss: 619.894\n",
      "Wall time: 54.5 s\n"
     ]
    }
   ],
   "source": [
    "%%time\n",
    "#without sparse matrix, batching one by one for 100 data spends 38 minutes\n",
    "model = Net()\n",
    "optimizer = torch.optim.Adam(model.parameters(), lr=0.01)\n",
    "train_loss_list, test_loss_list = [], []\n",
    "\n",
    "for epoch in range(3001):\n",
    "\n",
    "  model.train()\n",
    "  train_loss = 0\n",
    "  for batch in train_loader:\n",
    "    optimizer.zero_grad()\n",
    "    pred = model(batch)\n",
    "    loss = F.mse_loss(denormalize_output(pred, y_mean, y_std), denormalize_output(batch.y, y_mean, y_std))\n",
    "    loss.backward()\n",
    "    optimizer.step()\n",
    "    train_loss += loss.item() * batch.num_graphs\n",
    "  train_loss /= len(train_loader.dataset)\n",
    "  train_loss_list.append(train_loss)\n",
    "\n",
    "  model.eval()\n",
    "  test_loss=0\n",
    "  for batch in test_loader:\n",
    "    pred = model(batch)\n",
    "    loss = F.mse_loss(denormalize_output(pred, y_mean, y_std), denormalize_output(batch.y, y_mean, y_std))\n",
    "    test_loss += loss.item() * batch.num_graphs\n",
    "  test_loss /= len(test_loader.dataset)\n",
    "  test_loss_list.append(test_loss)\n",
    "\n",
    "  if (epoch % 300) == 0:\n",
    "    print('Epoch: {:04d}, train loss: {:5.3f}, test loss: {:5.3f}'.\n",
    "    format(epoch, train_loss, test_loss))"
   ]
  },
  {
   "cell_type": "code",
   "execution_count": 10,
   "metadata": {
    "colab": {
     "base_uri": "https://localhost:8080/",
     "height": 312
    },
    "executionInfo": {
     "elapsed": 139545,
     "status": "ok",
     "timestamp": 1611511181528,
     "user": {
      "displayName": "Mukhlish Ghany",
      "photoUrl": "https://lh3.googleusercontent.com/a-/AOh14GgcCiC5ZrEN8nVzzekSp93Y6Xy8jjuotS-NQMVfBA=s64",
      "userId": "13681952602611334172"
     },
     "user_tz": -60
    },
    "id": "fpzpu2F6ew9a",
    "outputId": "b5e16bb2-0ed4-44dc-ce60-4e3a4fdd14f9"
   },
   "outputs": [
    {
     "data": {
      "image/png": "[encoded data removed]",
      "text/plain": [
       "<Figure size 432x288 with 1 Axes>"
      ]
     },
     "metadata": {
      "needs_background": "light"
     },
     "output_type": "display_data"
    },
    {
     "name": "stdout",
     "output_type": "stream",
     "text": [
      "epoch: 3000, train loss: 486.25937, test loss: 619.89380\n"
     ]
    }
   ],
   "source": [
    "plt.title('GCN on power flow dataset')\n",
    "plt.plot(train_loss_list, label=\"train_loss\")\n",
    "plt.plot(test_loss_list, label=\"test_loss\")\n",
    "plt.xlabel(\"# Epoch\")\n",
    "plt.ylabel(\"Loss\")\n",
    "plt.legend(loc='best')\n",
    "plt.show()\n",
    "\n",
    "print('epoch: {:03d}, train loss: {:.5f}, test loss: {:.5f}'.\n",
    "          format(epoch, train_loss, test_loss))"
   ]
  },
  {
   "cell_type": "code",
   "execution_count": 11,
   "metadata": {
    "colab": {
     "base_uri": "https://localhost:8080/"
    },
    "executionInfo": {
     "elapsed": 139532,
     "status": "ok",
     "timestamp": 1611511181530,
     "user": {
      "displayName": "Mukhlish Ghany",
      "photoUrl": "https://lh3.googleusercontent.com/a-/AOh14GgcCiC5ZrEN8nVzzekSp93Y6Xy8jjuotS-NQMVfBA=s64",
      "userId": "13681952602611334172"
     },
     "user_tz": -60
    },
    "id": "q6TKtYufvvTI",
    "outputId": "693088f0-ce1e-4656-d1b0-f7fe486109e3"
   },
   "outputs": [
    {
     "name": "stdout",
     "output_type": "stream",
     "text": [
      "Train output: \n",
      "[[252.13   57.136]\n",
      " [ 29.579  -4.824]\n",
      " [ 31.966 -12.65 ]\n",
      " [135.178 142.116]\n",
      " [134.258 139.763]\n",
      " [132.894 135.852]\n",
      " [134.365 139.539]\n",
      " [132.437 135.263]\n",
      " [133.839 134.587]]\n",
      "\n",
      "Train output prediction: \n",
      "[[247.007  55.756]\n",
      " [ 60.922  -5.203]\n",
      " [ 69.259  -3.322]\n",
      " [176.041 150.565]\n",
      " [151.208 142.388]\n",
      " [118.765 124.006]\n",
      " [115.986 126.319]\n",
      " [144.49  132.224]\n",
      " [ 99.666 117.317]]\n",
      "Train loss (MSE): 388.71643\n",
      "\n",
      "======================\n",
      "\n",
      "Test output: \n",
      "[[226.043  55.963]\n",
      " [ 61.89   -4.06 ]\n",
      " [ 49.702  -7.021]\n",
      " [135.014 142.927]\n",
      " [134.027 139.523]\n",
      " [130.995 138.661]\n",
      " [131.762 140.192]\n",
      " [130.299 138.681]\n",
      " [132.494 140.188]]\n",
      "\n",
      "Test output prediction: \n",
      "[[246.695  61.085]\n",
      " [ 73.557  -5.304]\n",
      " [ 51.673 -14.08 ]\n",
      " [165.692 149.31 ]\n",
      " [113.044 131.985]\n",
      " [131.572 133.108]\n",
      " [102.375 130.832]\n",
      " [123.003 131.946]\n",
      " [114.344 130.403]]\n",
      "Test loss (MSE): 201.62250\n"
     ]
    }
   ],
   "source": [
    "model.eval()\n",
    "\n",
    "y_train_prediction = model(data_train_list[0])\n",
    "train_loss_1 = F.mse_loss(denormalize_output(y_train_prediction, y_mean, y_std), denormalize_output(data_train_list[0].y, y_mean, y_std))\n",
    "print(\"Train output: \\n\" + str(denormalize_output(data_train_list[0].y, y_mean, y_std).detach().numpy()))\n",
    "print()\n",
    "print(\"Train output prediction: \\n\" + str(denormalize_output(y_train_prediction, y_mean, y_std).detach().numpy()))\n",
    "print('Train loss (MSE): {:.5f}'.format(train_loss_1))\n",
    "print()\n",
    "print(\"======================\")\n",
    "print()\n",
    "y_test_prediction = model(data_test_list[-1])\n",
    "test_loss_1 = F.mse_loss(denormalize_output(y_test_prediction, y_mean, y_std), denormalize_output(data_test_list[-1].y, y_mean, y_std))\n",
    "print(\"Test output: \\n\" + str(denormalize_output(data_test_list[-1].y, y_mean, y_std).detach().numpy()))\n",
    "print()\n",
    "print(\"Test output prediction: \\n\" + str(denormalize_output(y_test_prediction, y_mean, y_std).detach().numpy()))\n",
    "print('Test loss (MSE): {:.5f}'.format(test_loss_1))"
   ]
  }
 ],
 "metadata": {
  "colab": {
   "collapsed_sections": [],
   "name": "[Framework] GNN Power Flow.ipynb",
   "provenance": []
  },
  "kernelspec": {
   "display_name": "Python 3",
   "language": "python",
   "name": "python3"
  },
  "language_info": {
   "codemirror_mode": {
    "name": "ipython",
    "version": 3
   },
   "file_extension": ".py",
   "mimetype": "text/x-python",
   "name": "python",
   "nbconvert_exporter": "python",
   "pygments_lexer": "ipython3",
   "version": "3.8.3"
  }
 },
 "nbformat": 4,
 "nbformat_minor": 1
}
