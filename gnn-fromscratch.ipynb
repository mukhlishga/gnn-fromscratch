{
 "cells": [
  {
   "cell_type": "markdown",
   "metadata": {
    "id": "WWJy9u9UnPZl"
   },
   "source": [
    "# Library"
   ]
  },
  {
   "cell_type": "code",
   "execution_count": 1,
   "metadata": {
    "executionInfo": {
     "elapsed": 4158,
     "status": "ok",
     "timestamp": 1611510638716,
     "user": {
      "displayName": "Mukhlish Ghany",
      "photoUrl": "https://lh3.googleusercontent.com/a-/AOh14GgcCiC5ZrEN8nVzzekSp93Y6Xy8jjuotS-NQMVfBA=s64",
      "userId": "13681952602611334172"
     },
     "user_tz": -60
    },
    "id": "gcNclnyORGQR"
   },
   "outputs": [],
   "source": [
    "#Pytorch library\n",
    "import torch\n",
    "import torch.nn as nn\n",
    "import torch.nn.functional as F\n",
    "\n",
    "import numpy as np\n",
    "import pandas as pd\n",
    "import matplotlib.pyplot as plt\n",
    "\n",
    "np.set_printoptions(precision=3, threshold=10, edgeitems=5, suppress=True)\n",
    "torch.set_printoptions(precision=3, threshold=10, edgeitems=5, sci_mode=False)"
   ]
  },
  {
   "cell_type": "markdown",
   "metadata": {
    "id": "lDULOru2nS_n"
   },
   "source": [
    "# Data preprocessing library"
   ]
  },
  {
   "cell_type": "code",
   "execution_count": 2,
   "metadata": {
    "executionInfo": {
     "elapsed": 4150,
     "status": "ok",
     "timestamp": 1611510638723,
     "user": {
      "displayName": "Mukhlish Ghany",
      "photoUrl": "https://lh3.googleusercontent.com/a-/AOh14GgcCiC5ZrEN8nVzzekSp93Y6Xy8jjuotS-NQMVfBA=s64",
      "userId": "13681952602611334172"
     },
     "user_tz": -60
    },
    "id": "5lxco29RD42y"
   },
   "outputs": [],
   "source": [
    "def normalize_dataset(x, y):\n",
    "  x_mean = torch.mean(x)\n",
    "  y_mean = torch.mean(y)\n",
    "  x_std = torch.std(x)\n",
    "  y_std = torch.std(y)\n",
    "  x = (x-torch.mean(x))/torch.std(x)\n",
    "  y = (y-torch.mean(y))/torch.std(y)\n",
    "  x = torch.where(torch.isnan(x), torch.zeros_like(x), x)\n",
    "  y = torch.where(torch.isnan(y), torch.zeros_like(y), y)\n",
    "  return x, y, x_mean, y_mean, x_std, y_std\n",
    "\n",
    "def normalize_input(x, x_mean, x_std):\n",
    "  return (x-x_mean)/x_std\n",
    "\n",
    "def denormalize_output(y, y_mean, y_std):\n",
    "  return y*y_std+y_mean\n",
    "\n",
    "def slice_dataset(x_dataset, y_dataset, n_train_percent):\n",
    "  data_size = len(x_dataset)\n",
    "  x_train = x_dataset[:int(data_size*n_train_percent)]\n",
    "  x_test = x_dataset[int(data_size*n_train_percent):]\n",
    "  y_train = y_dataset[:int(data_size*n_train_percent)]\n",
    "  y_test = y_dataset[int(data_size*n_train_percent):]\n",
    "  return x_train, y_train, x_test, y_test"
   ]
  },
  {
   "cell_type": "markdown",
   "metadata": {
    "id": "SObb8gH1KPqW"
   },
   "source": [
    "# power flow dataset"
   ]
  },
  {
   "cell_type": "code",
   "execution_count": 3,
   "metadata": {
    "colab": {
     "base_uri": "https://localhost:8080/"
    },
    "executionInfo": {
     "elapsed": 34111,
     "status": "ok",
     "timestamp": 1611510668735,
     "user": {
      "displayName": "Mukhlish Ghany",
      "photoUrl": "https://lh3.googleusercontent.com/a-/AOh14GgcCiC5ZrEN8nVzzekSp93Y6Xy8jjuotS-NQMVfBA=s64",
      "userId": "13681952602611334172"
     },
     "user_tz": -60
    },
    "id": "57_-n06EqZ6h",
    "outputId": "16325681-f7d3-4c4c-8473-a4922c8841d5"
   },
   "outputs": [
    {
     "data": {
      "text/plain": [
       "<bound method NDFrame.head of    PF Dataset  Bus1_Pgen  Bus1_Qgen  Bus1_Vgen  Bus1_dgen  Bus2_Pgen  \\\n",
       "0      Data 1    252.130     57.136      9.907          0      163.0   \n",
       "1      Data 2    265.068     50.663      9.907          0      163.0   \n",
       "2      Data 3    127.246     15.918      9.907          0      163.0   \n",
       "3      Data 4    384.471    110.843      9.907          0      163.0   \n",
       "4      Data 5    283.846     70.385      9.907          0      163.0   \n",
       "..        ...        ...        ...        ...        ...        ...   \n",
       "95    Data 96    260.495     69.772      9.907          0      163.0   \n",
       "96    Data 97    154.545     26.128      9.907          0      163.0   \n",
       "97    Data 98    238.472     60.046      9.907          0      163.0   \n",
       "98    Data 99    288.899     71.200      9.907          0      163.0   \n",
       "99   Data 100    226.043     55.963      9.907          0      163.0   \n",
       "\n",
       "    Bus2_Qgen  Bus2_Vgen  Bus2_dgen  Bus3_Pgen  ...  Bus7_Vload  Bus7_dload  \\\n",
       "0      29.579     10.652     -4.824         85  ...     134.365     139.539   \n",
       "1      46.528     10.652     -3.742         85  ...     132.999     140.563   \n",
       "2      29.225     10.652      2.110         85  ...     134.394     146.474   \n",
       "3      84.241     10.652    -21.031         85  ...     129.961     123.140   \n",
       "4      49.770     10.652     -8.800         85  ...     132.738     135.493   \n",
       "..        ...        ...        ...        ...  ...         ...         ...   \n",
       "95     54.701     10.652     -7.247         85  ...     132.341     137.030   \n",
       "96     46.051     10.652      1.004         85  ...     133.038     145.310   \n",
       "97     65.685     10.652     -6.898         85  ...     131.456     137.339   \n",
       "98     47.535     10.652     -9.659         85  ...     132.918     134.643   \n",
       "99     61.890     10.652     -4.060         85  ...     131.762     140.192   \n",
       "\n",
       "    Bus8_Pload  Bus8_Qload  Bus8_Vload  Bus8_dload  Bus9_Pload  Bus9_Qload  \\\n",
       "0       94.566      33.232     132.437     135.263     106.861      37.311   \n",
       "1       69.232      50.584     130.585     136.953     115.132      35.248   \n",
       "2       89.099      34.853     133.314     143.586      63.183      20.860   \n",
       "3      141.792      47.598     127.444     118.658     114.915      36.884   \n",
       "4      131.336      47.117     129.879     130.743     103.792      36.573   \n",
       "..         ...         ...         ...         ...         ...         ...   \n",
       "95     121.526      38.450     130.533     133.560      44.262      38.831   \n",
       "96      58.057      22.385     132.720     142.262     112.720      46.194   \n",
       "97      70.282      37.182     130.177     135.712      65.096      55.191   \n",
       "98      52.788      32.721     131.627     132.436      95.939      45.397   \n",
       "99      63.859      39.996     130.299     138.681      41.733      55.892   \n",
       "\n",
       "    Bus9_Vload  Bus9_dload  \n",
       "0      133.839     134.587  \n",
       "1      133.246     135.733  \n",
       "2      135.701     144.487  \n",
       "3      131.248     120.861  \n",
       "4      132.759     131.648  \n",
       "..         ...         ...  \n",
       "95     133.270     135.707  \n",
       "96     134.079     141.321  \n",
       "97     132.384     137.464  \n",
       "98     132.842     132.317  \n",
       "99     132.494     140.188  \n",
       "\n",
       "[100 rows x 37 columns]>"
      ]
     },
     "execution_count": 3,
     "metadata": {},
     "output_type": "execute_result"
    }
   ],
   "source": [
    "df = pd.read_excel('gnn_dataset.xlsx')\n",
    "df.head"
   ]
  },
  {
   "cell_type": "code",
   "execution_count": 4,
   "metadata": {
    "executionInfo": {
     "elapsed": 34104,
     "status": "ok",
     "timestamp": 1611510668735,
     "user": {
      "displayName": "Mukhlish Ghany",
      "photoUrl": "https://lh3.googleusercontent.com/a-/AOh14GgcCiC5ZrEN8nVzzekSp93Y6Xy8jjuotS-NQMVfBA=s64",
      "userId": "13681952602611334172"
     },
     "user_tz": -60
    },
    "id": "VZcIUnVhOXTL"
   },
   "outputs": [],
   "source": [
    "n_node = 9\n",
    "dataset_length = len(df.index)\n",
    "\n",
    "data_x, data_y = [], []\n",
    "x_raw, y_raw = [], []\n",
    "for row in range(dataset_length):\n",
    "  for col in range(n_node):\n",
    "    if col == 0:\n",
    "      data_x.append(list([df.iloc[row, 3], df.iloc[row, 4]]))\n",
    "      data_y.append(list([df.iloc[row, 1], df.iloc[row, 2]]))\n",
    "    elif col == 1 or col == 2:\n",
    "      data_x.append(list([df.iloc[row, col*4+1], df.iloc[row, col*4+3]]))\n",
    "      data_y.append(list([df.iloc[row, col*4+2], df.iloc[row, col*4+4]]))\n",
    "    else:\n",
    "      data_x.append(list([df.iloc[row, col*4+1], df.iloc[row, col*4+2]]))\n",
    "      data_y.append(list([df.iloc[row, col*4+3], df.iloc[row, col*4+4]]))\n",
    "  x_raw.append(list(data_x))\n",
    "  y_raw.append(list(data_y))\n",
    "  data_x, data_y = [], []\n",
    "\n",
    "x_raw = torch.tensor(x_raw, dtype=torch.float)\n",
    "y_raw = torch.tensor(y_raw, dtype=torch.float)"
   ]
  },
  {
   "cell_type": "code",
   "execution_count": 5,
   "metadata": {
    "executionInfo": {
     "elapsed": 34098,
     "status": "ok",
     "timestamp": 1611510668736,
     "user": {
      "displayName": "Mukhlish Ghany",
      "photoUrl": "https://lh3.googleusercontent.com/a-/AOh14GgcCiC5ZrEN8nVzzekSp93Y6Xy8jjuotS-NQMVfBA=s64",
      "userId": "13681952602611334172"
     },
     "user_tz": -60
    },
    "id": "9Ct7kFnZYgoy"
   },
   "outputs": [],
   "source": [
    "n_train_percent = 0.5\n",
    "\n",
    "x_raw_train, y_raw_train, x_raw_test, y_raw_test = slice_dataset(x_raw, y_raw, n_train_percent)\n",
    "x, y, x_mean, y_mean, x_std, y_std = normalize_dataset(x_raw, y_raw)\n",
    "x_train, y_train, x_test, y_test = slice_dataset(x, y, n_train_percent)"
   ]
  },
  {
   "cell_type": "markdown",
   "metadata": {
    "id": "Y3kB-mYEJ-Q0"
   },
   "source": [
    "# GNN 1 hidden layer"
   ]
  },
  {
   "cell_type": "code",
   "execution_count": 6,
   "metadata": {
    "executionInfo": {
     "elapsed": 34441,
     "status": "ok",
     "timestamp": 1611510669084,
     "user": {
      "displayName": "Mukhlish Ghany",
      "photoUrl": "https://lh3.googleusercontent.com/a-/AOh14GgcCiC5ZrEN8nVzzekSp93Y6Xy8jjuotS-NQMVfBA=s64",
      "userId": "13681952602611334172"
     },
     "user_tz": -60
    },
    "id": "CgFLykFi8KuA"
   },
   "outputs": [],
   "source": [
    "class MyGNN(nn.Module):\n",
    "  def __init__(self, input_size=None, hidden_size1=None, hidden_size2=None, output_size=None, Adj=None, lr=None, betas=None, eps=None):\n",
    "    super(MyGNN, self).__init__()\n",
    "    self.input_size = input_size if input_size is not None else 2\n",
    "    self.hidden_size1 = hidden_size1 if hidden_size1 is not None else 32\n",
    "    self.hidden_size2 = hidden_size2 if hidden_size1 is not None else 16\n",
    "    self.output_size = output_size if output_size is not None else 2\n",
    "\n",
    "    I = torch.eye(Adj.shape[0])\n",
    "    self.Adj_I = Adj + I\n",
    "    D = torch.diag(torch.sum(self.Adj_I, axis=0))\n",
    "    D_inv = D ** -(0.5)\n",
    "    self.D_inv = torch.where(torch.isinf(D_inv), torch.zeros_like(D_inv), D_inv)\n",
    "\n",
    "    #Xavier initialization for model parameter\n",
    "    b1 = torch.randn(1, self.hidden_size1) * torch.sqrt(torch.tensor(2)/(1+self.hidden_size1))\n",
    "    b2 = torch.randn(1, self.hidden_size2) * torch.sqrt(torch.tensor(2)/(1+self.hidden_size2))\n",
    "    b3 = torch.randn(1, self.output_size) * torch.sqrt(torch.tensor(2)/(1+self.output_size))\n",
    "    w1 = torch.randn(self.input_size, self.hidden_size1) * torch.sqrt(torch.tensor(2)/(self.input_size+self.hidden_size1))\n",
    "    w2 = torch.randn(self.hidden_size1, self.hidden_size2) * torch.sqrt(torch.tensor(2)/(self.hidden_size1+self.hidden_size2))\n",
    "    w3 = torch.randn(self.hidden_size2, self.output_size) * torch.sqrt(torch.tensor(2)/(self.hidden_size2+self.output_size))\n",
    "\n",
    "    #set model parameters require gradient\n",
    "    self.b1 = b1.clone().detach().requires_grad_(True)\n",
    "    self.w1 = w1.clone().detach().requires_grad_(True)\n",
    "    self.b2 = b2.clone().detach().requires_grad_(True)\n",
    "    self.w2 = w2.clone().detach().requires_grad_(True)\n",
    "    self.b3 = b3.clone().detach().requires_grad_(True)\n",
    "    self.w3 = w3.clone().detach().requires_grad_(True)\n",
    "    \n",
    "    #train iteration\n",
    "    self.t = 0 \n",
    "    \n",
    "    #learning rate\n",
    "    self.lr = lr if lr is not None else 0.001\n",
    "\n",
    "    #gradient momentum (running average)\n",
    "    self.beta1 = betas[0] if betas is not None else 0.9\n",
    "    self.Vdb1, self.Vdb2, self.Vdb3, self.Vdw1, self.Vdw2, self.Vdw3 = 0, 0, 0, 0, 0, 0\n",
    "    \n",
    "    #gradient RMSprop\n",
    "    self.beta2 = betas[1] if betas is not None else 0.999\n",
    "    self.Sdb1, self.Sdb2, self.Sdb3, self.Sdw1, self.Sdw2, self.Sdw3 = 0, 0, 0, 0, 0, 0\n",
    "    self.eps = eps if eps is not None else 1e-8\n",
    "\n",
    "  def GCN_layer(self, x):\n",
    "    self.aggregator = torch.matmul(torch.matmul(self.D_inv, self.Adj_I), self.D_inv)\n",
    "\n",
    "    self.aggregated1 = torch.matmul(self.aggregator, x)\n",
    "    self.z1 = torch.matmul(self.aggregated1, self.w1) + self.b1\n",
    "    self.a1 = torch.tanh(self.z1)\n",
    "    \n",
    "    self.aggregated2 = torch.matmul(self.aggregator, self.a1)\n",
    "    self.z2 = torch.matmul(self.aggregated2, self.w2) + self.b2\n",
    "    self.a2 = torch.tanh(self.z2)\n",
    "    \n",
    "    self.aggregated3 = torch.matmul(self.aggregator, self.a2)\n",
    "    self.z3 = torch.matmul(self.aggregated3, self.w3) + self.b3\n",
    "    self.a3 = self.z3\n",
    "\n",
    "    return self.a3\n",
    "\n",
    "  def ADAM_step(self):\n",
    "    self.t += 1\n",
    "\n",
    "    with torch.no_grad():\n",
    "      \n",
    "      #gradient momentum (running average)\n",
    "      self.Vdb1 = self.beta1*self.Vdb1 + self.b1.grad*(1-self.beta1)\n",
    "      self.Vdb2 = self.beta1*self.Vdb2 + self.b2.grad*(1-self.beta1)\n",
    "      self.Vdb3 = self.beta1*self.Vdb3 + self.b3.grad*(1-self.beta1)\n",
    "      self.Vdw1 = self.beta1*self.Vdw1 + self.w1.grad*(1-self.beta1)\n",
    "      self.Vdw2 = self.beta1*self.Vdw2 + self.w2.grad*(1-self.beta1)\n",
    "      self.Vdw3 = self.beta1*self.Vdw3 + self.w3.grad*(1-self.beta1)\n",
    "\n",
    "      #gradient RMSprop\n",
    "      self.Sdb1 = self.beta2*self.Sdb1 + self.b1.grad*self.b1.grad*(1-self.beta2)\n",
    "      self.Sdb2 = self.beta2*self.Sdb2 + self.b2.grad*self.b2.grad*(1-self.beta2)\n",
    "      self.Sdb3 = self.beta2*self.Sdb3 + self.b3.grad*self.b3.grad*(1-self.beta2)\n",
    "      self.Sdw1 = self.beta2*self.Sdw1 + self.w1.grad*self.w1.grad*(1-self.beta2)\n",
    "      self.Sdw2 = self.beta2*self.Sdw2 + self.w2.grad*self.w2.grad*(1-self.beta2)\n",
    "      self.Sdw3 = self.beta2*self.Sdw3 + self.w3.grad*self.w3.grad*(1-self.beta2)\n",
    "\n",
    "      #corrected value\n",
    "      self.Vdb1_corr = self.Vdb1/(1-(self.beta1**self.t))\n",
    "      self.Vdb2_corr = self.Vdb2/(1-(self.beta1**self.t))\n",
    "      self.Vdb3_corr = self.Vdb3/(1-(self.beta1**self.t))\n",
    "      self.Vdw1_corr = self.Vdw1/(1-(self.beta1**self.t))\n",
    "      self.Vdw2_corr = self.Vdw2/(1-(self.beta1**self.t))\n",
    "      self.Vdw3_corr = self.Vdw3/(1-(self.beta1**self.t))\n",
    "      self.Sdb1_corr = self.Sdb1/(1-(self.beta2**self.t))\n",
    "      self.Sdb2_corr = self.Sdb2/(1-(self.beta2**self.t))\n",
    "      self.Sdb3_corr = self.Sdb3/(1-(self.beta2**self.t))\n",
    "      self.Sdw1_corr = self.Sdw1/(1-(self.beta2**self.t))\n",
    "      self.Sdw2_corr = self.Sdw2/(1-(self.beta2**self.t))\n",
    "      self.Sdw3_corr = self.Sdw3/(1-(self.beta2**self.t))\n",
    "\n",
    "      #adam optimizer parameter update\n",
    "      self.b1 -= self.lr*self.Vdb1_corr/(torch.sqrt(self.Sdb1_corr)+self.eps)\n",
    "      self.b2 -= self.lr*self.Vdb2_corr/(torch.sqrt(self.Sdb2_corr)+self.eps)\n",
    "      self.b3 -= self.lr*self.Vdb3_corr/(torch.sqrt(self.Sdb3_corr)+self.eps)\n",
    "      self.w1 -= self.lr*self.Vdw1_corr/(torch.sqrt(self.Sdw1_corr)+self.eps)\n",
    "      self.w2 -= self.lr*self.Vdw2_corr/(torch.sqrt(self.Sdw2_corr)+self.eps)\n",
    "      self.w3 -= self.lr*self.Vdw3_corr/(torch.sqrt(self.Sdw3_corr)+self.eps)\n",
    "\n",
    "      #set zero grad before next backprop \n",
    "      self.b1.grad.zero_()\n",
    "      self.b2.grad.zero_()\n",
    "      self.b3.grad.zero_()\n",
    "      self.w1.grad.zero_()\n",
    "      self.w2.grad.zero_()\n",
    "      self.w3.grad.zero_()\n",
    "  \n",
    "  def save_weights(self, model):\n",
    "     torch.save(model, \"model\")"
   ]
  },
  {
   "cell_type": "code",
   "execution_count": 7,
   "metadata": {
    "executionInfo": {
     "elapsed": 34438,
     "status": "ok",
     "timestamp": 1611510669085,
     "user": {
      "displayName": "Mukhlish Ghany",
      "photoUrl": "https://lh3.googleusercontent.com/a-/AOh14GgcCiC5ZrEN8nVzzekSp93Y6Xy8jjuotS-NQMVfBA=s64",
      "userId": "13681952602611334172"
     },
     "user_tz": -60
    },
    "id": "nJR5lrCBVMff"
   },
   "outputs": [],
   "source": [
    "x_train, y_train = x_train, y_train\n",
    "x_test, y_test = x_test, y_test\n",
    "Adj = torch.tensor([[0,0,0,1,0,0,0,0,0],\n",
    "                  [0,0,0,0,0,0,1,0,0],\n",
    "                  [0,0,0,0,0,0,0,0,1],\n",
    "                  [1,0,0,0,1,1,0,0,0],\n",
    "                  [0,0,0,1,0,0,1,0,0],\n",
    "                  [0,0,0,1,0,0,0,0,1],\n",
    "                  [0,1,0,0,1,0,0,1,0],\n",
    "                  [0,0,0,0,0,0,1,0,1],\n",
    "                  [0,0,1,0,0,1,0,1,0]], dtype=torch.long)\n",
    "\n",
    "input_size = 2\n",
    "hidden_size1 = 32\n",
    "hidden_size2 = 16\n",
    "output_size = 2\n",
    "lr = 0.005\n",
    "betas = [0.9, 0.999]\n",
    "eps = 1e-8\n"
   ]
  },
  {
   "cell_type": "code",
   "execution_count": 8,
   "metadata": {
    "colab": {
     "base_uri": "https://localhost:8080/"
    },
    "executionInfo": {
     "elapsed": 707667,
     "status": "ok",
     "timestamp": 1611511342326,
     "user": {
      "displayName": "Mukhlish Ghany",
      "photoUrl": "https://lh3.googleusercontent.com/a-/AOh14GgcCiC5ZrEN8nVzzekSp93Y6Xy8jjuotS-NQMVfBA=s64",
      "userId": "13681952602611334172"
     },
     "user_tz": -60
    },
    "id": "ZtJ7I3xqalbB",
    "outputId": "5c643fb2-e5c0-46a7-d9ae-8c17ce1b938d"
   },
   "outputs": [
    {
     "name": "stdout",
     "output_type": "stream",
     "text": [
      "epoch:     0    train loss: 3495.00977    test loss: 3183.61475\n",
      "epoch:   300    train loss: 782.19482    test loss: 766.23315\n",
      "epoch:   600    train loss: 545.69751    test loss: 664.12323\n",
      "epoch:   900    train loss: 449.46735    test loss: 723.17151\n",
      "epoch:  1200    train loss: 376.93991    test loss: 706.54297\n",
      "epoch:  1500    train loss: 359.34357    test loss: 900.73499\n",
      "epoch:  1800    train loss: 366.89249    test loss: 936.14093\n",
      "epoch:  2100    train loss: 296.16681    test loss: 1040.32605\n",
      "epoch:  2400    train loss: 274.34241    test loss: 1231.42529\n",
      "epoch:  2700    train loss: 236.31573    test loss: 1398.93958\n",
      "epoch:  3000    train loss: 236.20856    test loss: 1451.58813\n",
      "Wall time: 3min 30s\n"
     ]
    }
   ],
   "source": [
    "%%time\n",
    "#batching one by one for 100 data spend 12 minutes \n",
    "model = MyGNN(input_size, hidden_size1, hidden_size2, output_size, Adj, lr, betas, eps)\n",
    "train_loss_list, test_loss_list = [], []\n",
    "\n",
    "for epoch in range(3001):\n",
    "\n",
    "  train_loss = 0\n",
    "  for i,_ in enumerate(x_train):\n",
    "    y_train_prediction = model.GCN_layer(x_train[i])\n",
    "    loss = F.mse_loss(denormalize_output(y_train_prediction, y_mean, y_std), denormalize_output(y_train[i], y_mean, y_std))\n",
    "    loss.backward()\n",
    "    model.ADAM_step()\n",
    "    train_loss += loss\n",
    "  train_loss /= len(x_train)\n",
    "  train_loss_list.append(train_loss)\n",
    "\n",
    "  with torch.no_grad():\n",
    "    test_loss = 0\n",
    "    for j,_ in enumerate(x_test):\n",
    "      y_test_prediction = model.GCN_layer(x_test[j])\n",
    "      loss = F.mse_loss(denormalize_output(y_test_prediction, y_mean, y_std), denormalize_output(y_test[j], y_mean, y_std))\n",
    "      test_loss += loss\n",
    "    test_loss /= len(x_test)\n",
    "    test_loss_list.append(test_loss)\n",
    "\n",
    "  if (epoch % 300) == 0:\n",
    "    print('epoch: {:5d}    train loss: {:.5f}    test loss: {:.5f}'.format(epoch, train_loss, test_loss))"
   ]
  },
  {
   "cell_type": "code",
   "execution_count": 9,
   "metadata": {
    "colab": {
     "base_uri": "https://localhost:8080/",
     "height": 312
    },
    "executionInfo": {
     "elapsed": 708313,
     "status": "ok",
     "timestamp": 1611511342986,
     "user": {
      "displayName": "Mukhlish Ghany",
      "photoUrl": "https://lh3.googleusercontent.com/a-/AOh14GgcCiC5ZrEN8nVzzekSp93Y6Xy8jjuotS-NQMVfBA=s64",
      "userId": "13681952602611334172"
     },
     "user_tz": -60
    },
    "id": "QihS4lf_viQ7",
    "outputId": "aa1b7532-97fa-40c2-f72f-335d04872dc4"
   },
   "outputs": [
    {
     "data": {
      "image/png": "[encoded data removed]",
      "text/plain": [
       "<Figure size 432x288 with 1 Axes>"
      ]
     },
     "metadata": {
      "needs_background": "light"
     },
     "output_type": "display_data"
    },
    {
     "name": "stdout",
     "output_type": "stream",
     "text": [
      "Epoch: 3000, Train loss: 236.20856, Test loss: 1451.58813\n"
     ]
    }
   ],
   "source": [
    "plt.title('GCN on power flow dataset')\n",
    "plt.plot(train_loss_list, label=\"train_loss\")\n",
    "plt.plot(test_loss_list, label=\"test_loss\")\n",
    "plt.xlabel(\"# Epoch\")\n",
    "plt.ylabel(\"Loss\")\n",
    "plt.legend(loc='best')\n",
    "plt.show()\n",
    "\n",
    "print('Epoch: {:03d}, Train loss: {:.5f}, Test loss: {:.5f}'.\n",
    "          format(epoch, train_loss, test_loss))"
   ]
  },
  {
   "cell_type": "code",
   "execution_count": 10,
   "metadata": {
    "colab": {
     "base_uri": "https://localhost:8080/"
    },
    "executionInfo": {
     "elapsed": 708298,
     "status": "ok",
     "timestamp": 1611511342988,
     "user": {
      "displayName": "Mukhlish Ghany",
      "photoUrl": "https://lh3.googleusercontent.com/a-/AOh14GgcCiC5ZrEN8nVzzekSp93Y6Xy8jjuotS-NQMVfBA=s64",
      "userId": "13681952602611334172"
     },
     "user_tz": -60
    },
    "id": "4rt9mz4FNu9w",
    "outputId": "83b4bf0c-f19a-49fa-d773-31d2e10fbcbc"
   },
   "outputs": [
    {
     "name": "stdout",
     "output_type": "stream",
     "text": [
      "Train output: \n",
      "[[252.13   57.136]\n",
      " [ 29.579  -4.824]\n",
      " [ 31.966 -12.65 ]\n",
      " [135.178 142.116]\n",
      " [134.258 139.763]\n",
      " [132.894 135.852]\n",
      " [134.365 139.539]\n",
      " [132.437 135.263]\n",
      " [133.839 134.587]]\n",
      "\n",
      "Train output prediction: \n",
      "[[266.65   65.7  ]\n",
      " [ 34.625 -10.789]\n",
      " [ 47.672 -12.399]\n",
      " [169.642 155.119]\n",
      " [149.174 144.078]\n",
      " [135.924 134.616]\n",
      " [134.825 137.902]\n",
      " [136.747 131.852]\n",
      " [132.182 130.275]]\n",
      "Train loss (MSE): 125.27916\n",
      "\n",
      "==========================\n",
      "\n",
      "Test output: \n",
      "[[226.043  55.963]\n",
      " [ 61.89   -4.06 ]\n",
      " [ 49.702  -7.021]\n",
      " [135.014 142.927]\n",
      " [134.027 139.523]\n",
      " [130.995 138.661]\n",
      " [131.762 140.192]\n",
      " [130.299 138.681]\n",
      " [132.494 140.188]]\n",
      "\n",
      "Test output prediction: \n",
      "[[273.523  65.801]\n",
      " [ 78.146  -1.805]\n",
      " [ 16.114 -20.34 ]\n",
      " [116.414 137.059]\n",
      " [100.627 128.005]\n",
      " [ 98.567 127.934]\n",
      " [105.729 129.959]\n",
      " [ 90.926 126.52 ]\n",
      " [ 87.181 123.758]]\n",
      "Test loss (MSE): 640.28522\n"
     ]
    }
   ],
   "source": [
    "with torch.no_grad(): y_train_prediction = model.GCN_layer(x_train[0])\n",
    "train_loss_1 = F.mse_loss(denormalize_output(y_train_prediction, y_mean, y_std), denormalize_output(y_train[0], y_mean, y_std))\n",
    "print(\"Train output: \\n\" + str(denormalize_output(y_train, y_mean, y_std).detach().numpy()[0]))\n",
    "print()\n",
    "print(\"Train output prediction: \\n\" + str(denormalize_output(y_train_prediction, y_mean, y_std).detach().numpy()))\n",
    "print('Train loss (MSE): {:.5f}'.format(train_loss_1))\n",
    "print()\n",
    "print(\"==========================\")\n",
    "print()\n",
    "with torch.no_grad(): y_test_prediction = model.GCN_layer(x_test[-1])\n",
    "test_loss_1 = F.mse_loss(denormalize_output(y_test_prediction, y_mean, y_std), denormalize_output(y_test[-1], y_mean, y_std))\n",
    "print(\"Test output: \\n\" + str(denormalize_output(y_test, y_mean, y_std).detach().numpy()[-1]))\n",
    "print()\n",
    "print(\"Test output prediction: \\n\" + str(denormalize_output(y_test_prediction, y_mean, y_std).detach().numpy()))\n",
    "print('Test loss (MSE): {:.5f}'.format(test_loss_1))"
   ]
  }
 ],
 "metadata": {
  "colab": {
   "collapsed_sections": [],
   "name": "[Scratch] GNN Power Flow.ipynb",
   "provenance": []
  },
  "kernelspec": {
   "display_name": "Python 3",
   "language": "python",
   "name": "python3"
  },
  "language_info": {
   "codemirror_mode": {
    "name": "ipython",
    "version": 3
   },
   "file_extension": ".py",
   "mimetype": "text/x-python",
   "name": "python",
   "nbconvert_exporter": "python",
   "pygments_lexer": "ipython3",
   "version": "3.8.3"
  }
 },
 "nbformat": 4,
 "nbformat_minor": 1
}
